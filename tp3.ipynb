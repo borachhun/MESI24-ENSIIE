{
 "cells": [
  {
   "attachments": {},
   "cell_type": "markdown",
   "metadata": {},
   "source": [
    "# Exercice 1"
   ]
  },
  {
   "cell_type": "code",
   "execution_count": null,
   "metadata": {},
   "outputs": [],
   "source": [
    "import numpy as np\n",
    "import matplotlib.pyplot as plt\n",
    "import math\n",
    "\n",
    "def discrete_sample(support_list, proba_list, N):\n",
    "    c_list = [sum(proba_list[0:(i+1)]) for i in range(len(proba_list))]\n",
    "\n",
    "    res = []\n",
    "\n",
    "    for _ in range(N):\n",
    "        k = 0\n",
    "        U = np.random.rand()\n",
    "        while (U > c_list[k] and k < len(proba_list)):\n",
    "            k += 1\n",
    "        res.append(support_list[k])\n",
    "\n",
    "    return res\n",
    "\n",
    "def one_sample_uniform(increased_support_list):\n",
    "    k = 0\n",
    "    U = np.random.rand()\n",
    "    sum_proba = 1 / len(increased_support_list)\n",
    "    while (U > sum_proba):\n",
    "        k += 1\n",
    "        sum_proba += 1 / len(increased_support_list)\n",
    "\n",
    "    return increased_support_list[k]\n",
    "\n",
    "def sample_abs_std_normal(N):\n",
    "    res = []\n",
    "\n",
    "    f = lambda x : 2 / np.sqrt(2*np.pi) * np.exp(-x**2/2) * int(x>0)\n",
    "    g = lambda x : np.exp(-x) * int(x>0)\n",
    "    inv_cdf_g = lambda x : -np.log(1-x) * int(x>0 and x<1)\n",
    "    c = np.sqrt(2 * np.e / np.pi)\n",
    "\n",
    "    for _ in range(N):\n",
    "        while True:\n",
    "            U = np.random.rand()\n",
    "\n",
    "            U_ = np.random.rand()\n",
    "            Y = inv_cdf_g(U_)\n",
    "\n",
    "            if U < f(Y) / (c * g(Y)):\n",
    "                break\n",
    "        res.append(Y)\n",
    "    \n",
    "    return res\n",
    "\n",
    "def sample_std_normal(N):\n",
    "    return [one_sample_uniform([-1,1]) * i for i in sample_abs_std_normal(N)]"
   ]
  },
  {
   "cell_type": "code",
   "execution_count": null,
   "metadata": {},
   "outputs": [],
   "source": [
    "# 1.\n",
    "\n",
    "E = [1,2,3,4,5]\n",
    "\n",
    "P = [[0.1, 0.1, 0.5, 0.2, 0.1],\n",
    "     [0.3, 0.1, 0.1, 0.4, 0.1],\n",
    "     [0.2, 0.1, 0.1, 0.5, 0.1],\n",
    "     [0.1, 0.1, 0.1, 0.6, 0.1],\n",
    "     [0.1, 0.2, 0.1, 0.4, 0.2]]\n",
    "\n",
    "N = 100\n",
    "# N = 100000\n",
    "X0 = 1\n",
    "\n",
    "chain = [X0]\n",
    "for _ in range(N):\n",
    "    chain.append(discrete_sample(E, P[chain[-1]-1], 1)[0])\n",
    "\n",
    "plt.plot([n for n in range(N+1)], chain, marker='.', linestyle='None')"
   ]
  },
  {
   "attachments": {},
   "cell_type": "markdown",
   "metadata": {},
   "source": [
    "2.\n",
    "\n",
    "$$\\pi = (\\pi_1, \\pi_2, \\pi_3, \\pi_4, \\pi_5)$$\n",
    "\n",
    "$$\\pi = \\pi P, \\sum_{k=1}^5 \\pi_k = 1$$\n",
    "\n",
    "\n",
    "Result from an online solver:\n",
    "$$\\pi = (0.1377, 0.1111, 0.1551, 0.4849, 0.1111)$$"
   ]
  },
  {
   "cell_type": "code",
   "execution_count": null,
   "metadata": {},
   "outputs": [],
   "source": [
    "# 3.\n",
    "\n",
    "pi_est = [\n",
    "    sum([\n",
    "        int(x == e)\n",
    "        for x in chain\n",
    "    ]) / N\n",
    "    for e in E\n",
    "]\n",
    "\n",
    "pi_est"
   ]
  },
  {
   "cell_type": "code",
   "execution_count": null,
   "metadata": {},
   "outputs": [],
   "source": [
    "# 4.\n",
    "\n",
    "transition_count = [[0,0,0,0,0],\n",
    "                    [0,0,0,0,0],\n",
    "                    [0,0,0,0,0],\n",
    "                    [0,0,0,0,0],\n",
    "                    [0,0,0,0,0]]\n",
    "start_state_count = [0,0,0,0,0]\n",
    "\n",
    "for i in range(N):\n",
    "    transition_count[chain[i]-1][chain[i+1]-1] += 1\n",
    "    start_state_count[chain[i]-1] += 1\n",
    "\n",
    "P_est = [\n",
    "    [\n",
    "        transition_count[i][j] / start_state_count[i]\n",
    "        for j in range(len(transition_count[i]))\n",
    "    ]\n",
    "    for i in range(len(transition_count))\n",
    "]\n",
    "\n",
    "P_est"
   ]
  },
  {
   "attachments": {},
   "cell_type": "markdown",
   "metadata": {},
   "source": [
    "# Exercice 2"
   ]
  },
  {
   "cell_type": "code",
   "execution_count": null,
   "metadata": {},
   "outputs": [],
   "source": [
    "# 1.\n",
    "\n",
    "d = 11\n",
    "A_list = [-0.05+0.01*k for k in range(d)]\n",
    "p_list = [1/d]*d\n",
    "r = 2\n",
    "\n",
    "n = 1000\n",
    "N = 10\n",
    "\n",
    "X_lists = []\n",
    "for _ in range(N):\n",
    "    X_lists.append([r])\n",
    "    for _ in range(n):\n",
    "        X_lists[-1].append(X_lists[-1][-1] + discrete_sample(A_list, p_list, 1)[0])\n",
    "    plt.plot([i for i in range(n+1)], X_lists[-1])"
   ]
  },
  {
   "attachments": {},
   "cell_type": "markdown",
   "metadata": {},
   "source": [
    "2.\n",
    "\n",
    "$$\\frac{1}{n} \\sum_{k=1}^{n} \\mathbb{E} \\left[ (X_k-r)^2 \\right] = \\mathbb{E} \\left[ \\frac{1}{n} \\sum_{k=1}^{n} (X_k-r)^2 \\right]$$"
   ]
  },
  {
   "cell_type": "code",
   "execution_count": null,
   "metadata": {},
   "outputs": [],
   "source": [
    "# 2.\n",
    "\n",
    "est = sum([ \n",
    "    1/n * sum([\n",
    "        (X_lists[i][k] - r)**2 for k in range(n+1)\n",
    "    ]) \n",
    "    for i in range(N)\n",
    "]) / N\n",
    "\n",
    "est"
   ]
  },
  {
   "attachments": {},
   "cell_type": "markdown",
   "metadata": {},
   "source": [
    "3. To find the confidence interval, the standard deviation can be computed using:\n",
    "\n",
    "$$S^2_{N,g} = \\frac{1}{N-1} \\sum_{k=1}^N \\left( g(X_0^{(k)},...,X_n^{(k)}) - M_N(g(X_0,...,X_n)) \\right)^2$$"
   ]
  },
  {
   "attachments": {},
   "cell_type": "markdown",
   "metadata": {},
   "source": [
    "# Exercice 3"
   ]
  },
  {
   "cell_type": "code",
   "execution_count": null,
   "metadata": {},
   "outputs": [],
   "source": [
    "# 1.\n",
    "\n",
    "N = 10\n",
    "X0 = 4\n",
    "E = [i for i in range(N+1)]\n",
    "# m = 10**5\n",
    "m = 100\n",
    "\n",
    "transition_proba = lambda Xn, Xn1: math.factorial(N)/(math.factorial(Xn1)*math.factorial(N-Xn1)) * (Xn/N)**Xn1 * (1-Xn/N)**(N-Xn1)\n",
    "\n",
    "chain = [X0]\n",
    "for _ in range(m):\n",
    "    chain.append(\n",
    "        discrete_sample(\n",
    "            E, \n",
    "            list(map(transition_proba, [chain[-1]]*(N+1), E)), \n",
    "            1\n",
    "        )[0]\n",
    "    )\n",
    "\n",
    "plt.plot([i for i in range(m+1)], chain)"
   ]
  },
  {
   "cell_type": "code",
   "execution_count": null,
   "metadata": {},
   "outputs": [],
   "source": [
    "transition_count = [[0]*(N+1)]*(N+1)\n",
    "start_state_count = [0]*(N+1)\n",
    "\n",
    "for i in range(m):\n",
    "    transition_count[chain[i]][chain[i+1]] += 1\n",
    "    start_state_count[chain[i]] += 1\n",
    "\n",
    "P_est = [\n",
    "    [\n",
    "        # condition to avoid division by zero\n",
    "        (transition_count[i][j] / start_state_count[i]) if start_state_count[i] != 0 else 0\n",
    "        for j in range(len(transition_count[i]))\n",
    "    ]\n",
    "    for i in range(len(transition_count))\n",
    "]\n",
    "\n",
    "P_est"
   ]
  },
  {
   "attachments": {},
   "cell_type": "markdown",
   "metadata": {},
   "source": [
    "# Exercice 6"
   ]
  },
  {
   "cell_type": "code",
   "execution_count": null,
   "metadata": {},
   "outputs": [],
   "source": [
    "d = 11\n",
    "A = [-0.05 + 0.01*k for k in range(d)]\n",
    "P = [1/d] * d\n",
    "r = 2\n",
    "x0 = r\n",
    "n = 1000\n",
    "\n",
    "# 1.\n",
    "\n",
    "delta = 0.05\n",
    "\n",
    "X = [x0]\n",
    "Y = [x0 + delta*sample_std_normal(1)[0]]\n",
    "\n",
    "for _ in range(n):\n",
    "    X.append(X[-1] + discrete_sample(A, P, 1)[0])\n",
    "    Y.append(X[-1] + delta*sample_std_normal(1)[0])\n",
    "\n",
    "plt.plot([i for i in range(n+1)], X)\n",
    "plt.plot([i for i in range(n+1)], Y)"
   ]
  }
 ],
 "metadata": {
  "kernelspec": {
   "display_name": "Python 3",
   "language": "python",
   "name": "python3"
  },
  "language_info": {
   "codemirror_mode": {
    "name": "ipython",
    "version": 3
   },
   "file_extension": ".py",
   "mimetype": "text/x-python",
   "name": "python",
   "nbconvert_exporter": "python",
   "pygments_lexer": "ipython3",
   "version": "3.11.1 (main, Dec 31 2022, 10:23:59) [GCC 12.2.0]"
  },
  "orig_nbformat": 4,
  "vscode": {
   "interpreter": {
    "hash": "916dbcbb3f70747c44a77c7bcd40155683ae19c65e1c03b4aa3499c5328201f1"
   }
  }
 },
 "nbformat": 4,
 "nbformat_minor": 2
}
