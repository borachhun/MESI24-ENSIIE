{
 "cells": [
  {
   "attachments": {},
   "cell_type": "markdown",
   "metadata": {},
   "source": [
    "# TP2"
   ]
  },
  {
   "cell_type": "code",
   "execution_count": null,
   "metadata": {},
   "outputs": [],
   "source": [
    "import numpy as np\n",
    "import matplotlib.pyplot as plt\n",
    "from scipy.stats import norm\n",
    "\n",
    "# Standard normal (from TP1)\n",
    "\n",
    "def one_sample_uniform(increased_support_list):\n",
    "    k = 0\n",
    "    U = np.random.rand()\n",
    "    sum_proba = 1 / len(increased_support_list)\n",
    "    while (U > sum_proba):\n",
    "        k += 1\n",
    "        sum_proba += 1 / len(increased_support_list)\n",
    "\n",
    "    return increased_support_list[k]\n",
    "\n",
    "def sample_abs_std_normal(N):\n",
    "    res = []\n",
    "\n",
    "    f = lambda x : 2 / np.sqrt(2*np.pi) * np.exp(-x**2/2) * int(x>0)\n",
    "    g = lambda x : np.exp(-x) * int(x>0)\n",
    "    inv_cdf_g = lambda x : -np.log(1-x) * int(x>0 and x<1)\n",
    "    c = np.sqrt(2 * np.e / np.pi)\n",
    "\n",
    "    for _ in range(N):\n",
    "        while True:\n",
    "            U = np.random.rand()\n",
    "\n",
    "            U_ = np.random.rand()\n",
    "            Y = inv_cdf_g(U_)\n",
    "\n",
    "            if U < f(Y) / (c * g(Y)):\n",
    "                break\n",
    "        res.append(Y)\n",
    "    \n",
    "    return res\n",
    "\n",
    "def sample_std_normal(N):\n",
    "    return [one_sample_uniform([-1,1]) * i for i in sample_abs_std_normal(N)]\n",
    "\n",
    "def sample_normal(N, mu, sigma):\n",
    "    return [z*sigma+mu for z in sample_std_normal(N)]\n",
    "\n",
    "# f = lambda x, mu=2, sigma=3: 1/(np.sqrt(2*np.pi)*sigma) * np.exp(-((x-mu)/sigma)**2/2)"
   ]
  },
  {
   "attachments": {},
   "cell_type": "markdown",
   "metadata": {},
   "source": [
    "## Exercice 1"
   ]
  },
  {
   "attachments": {},
   "cell_type": "markdown",
   "metadata": {},
   "source": [
    "1.\n",
    "\n",
    "$$\\mathbb{E}[X] = -\\frac{1}{3} + \\frac{1}{2} = \\frac{1}{6}$$\n",
    "$$\\mathbb{E}[Y] = -p_{-1} + p_{1}$$\n",
    "\n",
    "\\begin{equation*}\n",
    "\\begin{cases}\n",
    "-p_{-1} + p_{1} = \\frac{1}{6}\\\\\n",
    "p_{-1} + p_{1} = \\frac{1}{5}\n",
    "\\end{cases}\n",
    "\n",
    "\\Rightarrow\n",
    "\n",
    "\\begin{cases}\n",
    "p_{1} = \\frac{11}{60}\\\\\n",
    "p_{-1} = \\frac{1}{60}\n",
    "\\end{cases}\n",
    "\\end{equation*}"
   ]
  },
  {
   "cell_type": "code",
   "execution_count": null,
   "metadata": {},
   "outputs": [],
   "source": [
    "# 3.\n",
    "\n",
    "def discrete_sample(support_list, proba_list, N):\n",
    "    c_list = [sum(proba_list[0:(i+1)]) for i in range(len(proba_list))]\n",
    "\n",
    "    res = []\n",
    "\n",
    "    for _ in range(N):\n",
    "        k = 0\n",
    "        U = np.random.rand()\n",
    "        while (U > c_list[k] and k < len(proba_list)):\n",
    "            k += 1\n",
    "        res.append(support_list[k])\n",
    "\n",
    "    return res\n",
    "\n",
    "X_N_bar = [np.mean(discrete_sample([-1,0,1], [1/3,1/6,1/2], N)) for N in range(1,101)]\n",
    "Y_N_bar = [np.mean(discrete_sample([-1,0,1], [1/60,4/5,11/60], N)) for N in range(1,101)]\n",
    "\n",
    "plt.plot([i for i in range(1,101)], X_N_bar)\n",
    "plt.plot([i for i in range(1,101)], Y_N_bar)"
   ]
  },
  {
   "attachments": {},
   "cell_type": "markdown",
   "metadata": {},
   "source": [
    "## Exercice 2"
   ]
  },
  {
   "cell_type": "code",
   "execution_count": null,
   "metadata": {},
   "outputs": [],
   "source": [
    "# 2.\n",
    "\n",
    "mu = 0\n",
    "n = 30\n",
    "x0 = 20\n",
    "sigma = 0.9\n",
    "a = 8\n",
    "b = 36\n",
    "\n",
    "N = 10000\n",
    "\n",
    "X_k1 = lambda X_k: X_k * np.exp((mu-sigma**2/2)/n + (sigma*np.sqrt(1/n)*sample_std_normal(1)[0]))\n",
    "\n",
    "X_list = []\n",
    "for _ in range(N):\n",
    "    X_list.append([x0])\n",
    "    for _ in range(n):\n",
    "        X_list[-1].append(X_k1(X_list[-1][-1]))\n",
    "    plt.plot([i for i in range(n+1)], X_list[-1])"
   ]
  },
  {
   "cell_type": "code",
   "execution_count": null,
   "metadata": {},
   "outputs": [],
   "source": [
    "h = lambda x: min(abs(x-a), abs(x-b))\n",
    "\n",
    "mc_est = sum([ h(X_list[i][-1]) * np.prod([int(a <= X_k and X_k <= b) for X_k in X_list[i]]) for i in range(N) ]) / N\n",
    "mc_est"
   ]
  },
  {
   "cell_type": "code",
   "execution_count": null,
   "metadata": {},
   "outputs": [],
   "source": [
    "# 3.\n",
    "\n",
    "alpha = 0.05\n",
    "IC = (mc_est - norm.ppf(1-alpha/2)*sigma/np.sqrt(N), mc_est + norm.ppf(1-alpha/2)*sigma/np.sqrt(N))\n",
    "IC"
   ]
  },
  {
   "attachments": {},
   "cell_type": "markdown",
   "metadata": {},
   "source": [
    "## Exercice 3"
   ]
  },
  {
   "cell_type": "code",
   "execution_count": null,
   "metadata": {},
   "outputs": [],
   "source": [
    "# 2.\n",
    "\n",
    "sigma = 2\n",
    "c = 4.5\n",
    "N = 10000\n",
    "\n",
    "g = lambda x: x * int(x > c)\n",
    "\n",
    "mc_est = sum(list(map(g, sample_normal(N, 0, sigma)))) / N\n",
    "mc_est"
   ]
  },
  {
   "attachments": {},
   "cell_type": "markdown",
   "metadata": {},
   "source": [
    "Intervalle de confiance:\n",
    "\n",
    "$$IC = \\left[ \\bar{X_n}-q_{1-\\frac{\\alpha}{2}}\\frac{\\hat{\\sigma}}{\\sqrt{n}}; \\bar{X_n}+q_{1-\\frac{\\alpha}{2}}\\frac{\\hat{\\sigma}}{\\sqrt{n}} \\right]$$\n",
    "\n",
    "$$\\hat{\\sigma}^2 = \\frac{1}{n-1} \\sum_{k=1}^{n} (X_k - \\bar{X_n})^2$$"
   ]
  },
  {
   "cell_type": "code",
   "execution_count": null,
   "metadata": {},
   "outputs": [],
   "source": [
    "# 3.\n",
    "\n",
    "N = 500\n",
    "\n",
    "g_X_list = [list(map(g, sample_normal(n, 0, sigma))) for n in range(1,N+1)]\n",
    "Y_bar_list = [sum(g_X_list[i])/(i+1) for i in range(len(g_X_list))]\n",
    "\n",
    "sigma_hat = lambda X_list: np.sqrt(1/(len(X_list) - (1 if len(X_list)>1 else 0)) * sum([(x - np.mean(X_list))**2 for x in X_list]))\n",
    "\n",
    "alpha = 0.05    # 95% confidence interval\n",
    "IC = [\n",
    "    (Y_bar_list[i] - norm.ppf(1-alpha/2)*sigma_hat(g_X_list[i])/np.sqrt(i+1),\n",
    "    Y_bar_list[i] + norm.ppf(1-alpha/2)*sigma_hat(g_X_list[i])/np.sqrt(i+1)) \n",
    "    for i in range(len(Y_bar_list))\n",
    "]\n",
    "\n",
    "plt.plot([n for n in range(1,N+1)], Y_bar_list, linestyle='None', markersize=5, marker='.')\n",
    "plt.plot([n for n in range(1,N+1)], [IC[i][0] for i in range(N)], linestyle='None', markersize=5, marker='.')\n",
    "plt.plot([n for n in range(1,N+1)], [IC[i][1] for i in range(N)], linestyle='None', markersize=5, marker='.')"
   ]
  },
  {
   "attachments": {},
   "cell_type": "markdown",
   "metadata": {},
   "source": [
    "4.(a)\n",
    "\n",
    "$$\\mathbb{E}[g(X)] = \\int g(x)h(x)dx = \\int g(x) \\frac{h(x)}{h_\\mu(x)} h_\\mu(x)dx = \\mathbb{E}[\\psi (Z^\\mu)]$$\n",
    "\n",
    "$$h(x) = \\frac{1}{\\sigma\\sqrt{2\\pi}} \\exp \\left( -\\frac{x^2}{2\\sigma^2} \\right), h_\\mu(x) = \\frac{1}{\\sigma\\sqrt{2\\pi}} \\exp \\left( -\\frac{(x-\\mu)^2}{2\\sigma^2} \\right)$$\n",
    "\n",
    "$$\\psi(z) = g(z)\\frac{h(z)}{h_\\mu(z)} = z\\mathbb{1}_{\\{z>c\\}} \\times \\exp{\\left( \\frac{-2\\mu z + \\mu^2}{2\\sigma^2} \\right)}$$"
   ]
  },
  {
   "attachments": {},
   "cell_type": "markdown",
   "metadata": {},
   "source": [
    "4.(b)\n",
    "\n",
    "$$Z^\\mu = \\mu + \\sigma\\xi$$\n",
    "\n",
    "$$\\mathbb{E}[\\psi^2(\\mu+\\sigma\\xi)] = \\mathbb{E} \\left[ g^2(\\mu+\\sigma\\xi)\\exp \\left( \\frac{-\\mu(\\mu+2\\sigma\\xi)}{\\sigma^2} \\right) \\right] = \\mathbb{E}[K(\\mu,\\xi)]$$"
   ]
  },
  {
   "cell_type": "code",
   "execution_count": null,
   "metadata": {},
   "outputs": [],
   "source": [
    "# 4.(c)\n",
    "\n",
    "K = lambda mu, xi: g(mu+sigma*xi)**2 * np.exp(-mu*(mu+2*sigma*xi)/(sigma**2))\n",
    "\n",
    "mu_list = list(np.arange(0,7,0.01))\n",
    "K_tilde_list = [\n",
    "    sum(list(map(K, [mu]*N, sample_std_normal(N)))) / N\n",
    "    for mu in mu_list\n",
    "]\n",
    "plt.plot(mu_list, K_tilde_list, marker='.', linestyle='None')"
   ]
  },
  {
   "attachments": {},
   "cell_type": "markdown",
   "metadata": {},
   "source": [
    "4.(d)\n",
    "\n",
    "$$K'(\\mu,\\xi) = 2\\exp \\left( \\frac{-\\mu(\\mu+2\\sigma\\xi)}{\\sigma^2} \\right) \\left[ g'(\\mu+\\sigma\\xi)g(\\mu+\\sigma\\xi) - \\frac{\\mu+\\sigma\\xi}{\\sigma^2} g^2(\\mu+\\sigma\\xi) \\right]$$\n",
    "\n",
    "$$K''(\\mu,\\xi) = ...$$"
   ]
  },
  {
   "attachments": {},
   "cell_type": "markdown",
   "metadata": {},
   "source": [
    "## Exercice 4"
   ]
  },
  {
   "cell_type": "code",
   "execution_count": null,
   "metadata": {},
   "outputs": [],
   "source": [
    "# 1.\n",
    "\n",
    "T = 1\n",
    "n = 50\n",
    "sigma1 = 0.5\n",
    "sigma2 = 0.8\n",
    "r = 0.03\n",
    "X0 = 50\n",
    "Y0 = 60\n",
    "K = 55\n",
    "\n",
    "delta = T/n\n",
    "\n",
    "Z_list = sample_std_normal(n)\n",
    "Z_tilde_list = sample_std_normal(n)\n",
    "\n",
    "# 1.(a)\n",
    "\n",
    "X_list = [X0]\n",
    "Y_list = [Y0]\n",
    "\n",
    "rho = 0.5\n",
    "\n",
    "for k in range(n):\n",
    "    X_list.append(\n",
    "        X_list[k] * ((1 + r*delta) + sigma1*np.sqrt(delta)*Z_list[k])\n",
    "    )\n",
    "    Y_list.append(\n",
    "        Y_list[k] * ((1 + r*delta) + rho*sigma2*np.sqrt(delta)*Z_list[k] + sigma2*np.sqrt(1-rho**2)*np.sqrt(delta)*Z_tilde_list[k])\n",
    "    )\n",
    "\n",
    "plt.plot([i for i in range(n+1)], X_list)\n",
    "plt.plot([i for i in range(n+1)], Y_list)"
   ]
  },
  {
   "cell_type": "code",
   "execution_count": null,
   "metadata": {},
   "outputs": [],
   "source": [
    "# 1.(b)\n",
    "\n",
    "N = 1000\n",
    "\n",
    "X_tn = []\n",
    "Y_tn = []\n",
    "\n",
    "for _ in range(N):\n",
    "    Z_list = sample_std_normal(n)\n",
    "    Z_tilde_list = sample_std_normal(n)\n",
    "\n",
    "    X_list = [X0]\n",
    "    Y_list = [Y0]\n",
    "\n",
    "    rho = 0.5\n",
    "\n",
    "    for k in range(n):\n",
    "        X_list.append(\n",
    "            X_list[k] * ((1 + r*delta) + sigma1*np.sqrt(delta)*Z_list[k])\n",
    "        )\n",
    "        Y_list.append(\n",
    "            Y_list[k] * ((1 + r*delta) + rho*sigma2*np.sqrt(delta)*Z_list[k] + sigma2*np.sqrt(1-rho**2)*np.sqrt(delta)*Z_tilde_list[k])\n",
    "        )\n",
    "    \n",
    "    X_tn.append(X_list[-1])\n",
    "    Y_tn.append(Y_list[-1])\n",
    "\n",
    "est = np.exp(-r*T) * sum([\n",
    "    max(0, 0.5*X_tn[i] + 0.5*Y_tn[i] - K)\n",
    "    for i in range(N)\n",
    "]) / N\n",
    "\n",
    "est"
   ]
  }
 ],
 "metadata": {
  "kernelspec": {
   "display_name": "Python 3",
   "language": "python",
   "name": "python3"
  },
  "language_info": {
   "codemirror_mode": {
    "name": "ipython",
    "version": 3
   },
   "file_extension": ".py",
   "mimetype": "text/x-python",
   "name": "python",
   "nbconvert_exporter": "python",
   "pygments_lexer": "ipython3",
   "version": "3.11.1"
  },
  "orig_nbformat": 4,
  "vscode": {
   "interpreter": {
    "hash": "916dbcbb3f70747c44a77c7bcd40155683ae19c65e1c03b4aa3499c5328201f1"
   }
  }
 },
 "nbformat": 4,
 "nbformat_minor": 2
}
