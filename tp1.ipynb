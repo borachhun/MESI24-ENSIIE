{
 "cells": [
  {
   "attachments": {},
   "cell_type": "markdown",
   "metadata": {},
   "source": [
    "# TP1"
   ]
  },
  {
   "attachments": {},
   "cell_type": "markdown",
   "metadata": {},
   "source": [
    "## 1. Methode d'inversion"
   ]
  },
  {
   "attachments": {},
   "cell_type": "markdown",
   "metadata": {},
   "source": [
    "### Exercice 1"
   ]
  },
  {
   "cell_type": "code",
   "execution_count": null,
   "metadata": {},
   "outputs": [],
   "source": [
    "import numpy as np\n",
    "import matplotlib.pyplot as plt\n",
    "import scipy.stats as stats\n",
    "import math"
   ]
  },
  {
   "attachments": {},
   "cell_type": "markdown",
   "metadata": {},
   "source": [
    "1. \n",
    "\n",
    "$$\\mathbb{P}(X=1) = \\mathbb{P}(U \\leq p) = \\int_0^p du = p$$\n",
    "$$\\mathbb{P}(X=0) = 1 - \\mathbb{P}(U \\leq p) = 1-p$$"
   ]
  },
  {
   "cell_type": "code",
   "execution_count": null,
   "metadata": {},
   "outputs": [],
   "source": [
    "# 2.\n",
    "\n",
    "import numpy as np\n",
    "\n",
    "def sample_bernoulli(p, N):\n",
    "    res = []\n",
    "    for _ in range(N):\n",
    "        U = np.random.rand()\n",
    "        # if U <= p:\n",
    "        #     res.append(1)\n",
    "        # else:\n",
    "        #     res.append(0)\n",
    "        res.append(int(U <= p))\n",
    "    return res"
   ]
  },
  {
   "cell_type": "code",
   "execution_count": null,
   "metadata": {},
   "outputs": [],
   "source": [
    "# 3.\n",
    "\n",
    "N_list = [100, 1000, 10000]\n",
    "p = 0.3\n",
    "\n",
    "for N in N_list:\n",
    "    print(sum(sample_bernoulli(p, N)) / N)"
   ]
  },
  {
   "cell_type": "code",
   "execution_count": null,
   "metadata": {},
   "outputs": [],
   "source": [
    "# 4.\n",
    "\n",
    "# (a & b)\n",
    "\n",
    "p = 0.3\n",
    "n = 40\n",
    "\n",
    "mu = p\n",
    "sigma = np.sqrt(p*(1-p))\n",
    "\n",
    "N = 100000\n",
    "Z_n_list = []\n",
    "\n",
    "for _ in range(N):\n",
    "    X_n_bar = np.mean(sum(sample_bernoulli(p, n)) / n)\n",
    "    Z_n_list.append(np.sqrt(n) * (X_n_bar - mu) / sigma)\n",
    "\n",
    "plt.hist(Z_n_list, density=True)\n",
    "\n",
    "# N(0,1) plot\n",
    "x = np.linspace(-4,4)\n",
    "plt.plot(x, stats.norm.pdf(x,0,1))"
   ]
  },
  {
   "attachments": {},
   "cell_type": "markdown",
   "metadata": {},
   "source": [
    "### Exercice 2"
   ]
  },
  {
   "cell_type": "code",
   "execution_count": null,
   "metadata": {},
   "outputs": [],
   "source": [
    "# 2.\n",
    "\n",
    "def sample_binomial(n, p, N):\n",
    "    res = []\n",
    "    for _ in range(N):\n",
    "        s = 0\n",
    "        for _ in range(n):\n",
    "            U = np.random.rand()\n",
    "            s += int(U <= p)\n",
    "        res.append(s)\n",
    "    return res"
   ]
  },
  {
   "cell_type": "code",
   "execution_count": null,
   "metadata": {},
   "outputs": [],
   "source": [
    "# 3.\n",
    "\n",
    "N = 10000\n",
    "n = 30\n",
    "p = 0.1\n",
    "\n",
    "sample_binomial_list = sample_binomial(n, p, N)\n",
    "plt.hist(sample_binomial_list)"
   ]
  },
  {
   "cell_type": "code",
   "execution_count": null,
   "metadata": {},
   "outputs": [],
   "source": [
    "# 4.\n",
    "\n",
    "y_axis = [sum(list(map(int, [X == k for X in sample_binomial_list])))/N\n",
    "          for k in range(n+1)]\n",
    "\n",
    "plt.plot([x for x in range(n+1)], y_axis)"
   ]
  },
  {
   "cell_type": "code",
   "execution_count": null,
   "metadata": {},
   "outputs": [],
   "source": [
    "# 5.\n",
    "\n"
   ]
  },
  {
   "attachments": {},
   "cell_type": "markdown",
   "metadata": {},
   "source": [
    "### Exercice 3"
   ]
  },
  {
   "cell_type": "code",
   "execution_count": null,
   "metadata": {},
   "outputs": [],
   "source": [
    "# 1.\n",
    "\n",
    "a_list = [0.5, 1, 1.5, 2]\n",
    "p_list = [1/4, 1/8, 1/8, 1/2]\n",
    "\n",
    "c_list = [sum(p_list[0:(i+1)]) for i in range(len(p_list))]\n",
    "\n",
    "N = 10000\n",
    "\n",
    "res = []\n",
    "\n",
    "# algo from slide 1 page 23\n",
    "for _ in range(N):\n",
    "    k = 0\n",
    "    U = np.random.rand()\n",
    "    while (U > c_list[k] and k < len(p_list)):\n",
    "        k += 1\n",
    "    res.append(a_list[k])\n",
    "\n",
    "plt.hist(res)"
   ]
  },
  {
   "cell_type": "code",
   "execution_count": null,
   "metadata": {},
   "outputs": [],
   "source": [
    "# 2.\n",
    "\n",
    "plt.plot([1,2,3,4], [1/4, 1/8, 1/8, 1/2])"
   ]
  },
  {
   "attachments": {},
   "cell_type": "markdown",
   "metadata": {},
   "source": [
    "### Exercice 4"
   ]
  },
  {
   "cell_type": "code",
   "execution_count": null,
   "metadata": {},
   "outputs": [],
   "source": [
    "def one_sample_uniform(increased_support_list):\n",
    "    k = 0\n",
    "    U = np.random.rand()\n",
    "    sum_proba = 1 / len(increased_support_list)\n",
    "    while (U > sum_proba):\n",
    "        k += 1\n",
    "        sum_proba += 1 / len(increased_support_list)\n",
    "\n",
    "    return increased_support_list[k]\n",
    "\n",
    "def exercise4(p, n):\n",
    "    subsets = [[] for _ in range(p)]\n",
    "    subset_indexes = [i for i in range(1,p+1)]\n",
    "    E = [i for i in range(1,n+1)]\n",
    "\n",
    "    # while all subsets contain int(n/p) elements\n",
    "    while subset_indexes:\n",
    "        rand_subset = one_sample_uniform(subset_indexes)\n",
    "        to_add = one_sample_uniform(E)\n",
    "        subsets[rand_subset-1].append(to_add)\n",
    "        E.remove(to_add)\n",
    "        if (len(subsets[rand_subset-1]) == n // p):\n",
    "            subset_indexes.remove(rand_subset)\n",
    "    \n",
    "    # add the rest (n%p) elements to a random subset\n",
    "    subsets[one_sample_uniform([i for i in range(p)])] += E\n",
    "    return subsets\n",
    "\n",
    "exercise4(10,101)"
   ]
  },
  {
   "attachments": {},
   "cell_type": "markdown",
   "metadata": {},
   "source": [
    "### Exercice 5"
   ]
  },
  {
   "cell_type": "code",
   "execution_count": null,
   "metadata": {},
   "outputs": [],
   "source": [
    "def sample_poisson(lmda, N):\n",
    "    res = []\n",
    "\n",
    "    pmf_poisson = lambda x : lmda**x * np.exp(-lmda) / math.factorial(x)\n",
    "\n",
    "    for _ in range(N):\n",
    "        U = np.random.rand()\n",
    "        x = 0\n",
    "        sum_proba = pmf_poisson(x)\n",
    "        while (U > sum_proba):\n",
    "            x += 1\n",
    "            sum_proba += pmf_poisson(x)\n",
    "        res.append(x)\n",
    "    \n",
    "    return res\n",
    "\n",
    "\n",
    "def sample_exponential(lmda, N):\n",
    "    res = []\n",
    "\n",
    "    inv_cdf_expo = lambda x : -np.log(1-x) / lmda\n",
    "\n",
    "    for _ in range(N):\n",
    "        U = np.random.rand()\n",
    "        res.append(inv_cdf_expo(U))\n",
    "    \n",
    "    return res\n",
    "\n",
    "\n",
    "def sample_weibull(lmda, k, N):\n",
    "    res = []\n",
    "\n",
    "    inv_cdf_weibull = lambda x : lmda * (-np.log(1-x))**(1/k)\n",
    "\n",
    "    for _ in range(N):\n",
    "        U = np.random.rand()\n",
    "        res.append(inv_cdf_weibull(U))\n",
    "\n",
    "    return res"
   ]
  },
  {
   "cell_type": "code",
   "execution_count": null,
   "metadata": {},
   "outputs": [],
   "source": [
    "# dist = 'bern', 'binom', 'pois', 'exp', 'weibull'\n",
    "def exercise5(dist, param, N):\n",
    "    match dist:\n",
    "        case 'bern':\n",
    "            return sample_bernoulli(param[0], N)\n",
    "        case 'binom':\n",
    "            return sample_binomial(param[0], param[1], N)\n",
    "        case 'pois':\n",
    "            return sample_poisson(param[0], N)\n",
    "        case 'exp':\n",
    "            return sample_exponential(param[0], N)\n",
    "        case 'weibull':\n",
    "            return sample_weibull(param[0], param[1], N)\n",
    "        case _:\n",
    "            print('Invalid or unsupported distribution')"
   ]
  },
  {
   "attachments": {},
   "cell_type": "markdown",
   "metadata": {},
   "source": [
    "## 2. Methodes de rejet et de transformation"
   ]
  },
  {
   "attachments": {},
   "cell_type": "markdown",
   "metadata": {},
   "source": [
    "### Exercice 6"
   ]
  },
  {
   "cell_type": "code",
   "execution_count": null,
   "metadata": {},
   "outputs": [],
   "source": [
    "# 3.\n",
    "\n",
    "def sample_abs_std_normal(N):\n",
    "    res = []\n",
    "\n",
    "    f = lambda x : 2 / np.sqrt(2*np.pi) * np.exp(-x**2/2) * int(x>0)\n",
    "    g = lambda x : np.exp(-x) * int(x>0)\n",
    "    inv_cdf_g = lambda x : -np.log(1-x) * int(x>0 and x<1)\n",
    "    c = np.sqrt(2 * np.e / np.pi)\n",
    "\n",
    "    for _ in range(N):\n",
    "        while True:\n",
    "            U = np.random.rand()\n",
    "\n",
    "            U_ = np.random.rand()\n",
    "            Y = inv_cdf_g(U_)\n",
    "\n",
    "            if U < f(Y) / (c * g(Y)):\n",
    "                break\n",
    "        res.append(Y)\n",
    "    \n",
    "    return res"
   ]
  },
  {
   "cell_type": "code",
   "execution_count": null,
   "metadata": {},
   "outputs": [],
   "source": [
    "# 4.\n",
    "\n",
    "N = 100000\n",
    "\n",
    "plt.hist(sample_abs_std_normal(1000), density=True)\n",
    "\n",
    "# |X| plot\n",
    "x = np.linspace(0, 4, num=10000)\n",
    "f = lambda x : 2 / np.sqrt(2*np.pi) * np.exp(-x**2/2) * int(x>0)\n",
    "plt.plot(x, list(map(f, x)))"
   ]
  },
  {
   "cell_type": "code",
   "execution_count": 122,
   "metadata": {},
   "outputs": [
    {
     "data": {
      "text/plain": [
       "[<matplotlib.lines.Line2D at 0x7fa44298de10>]"
      ]
     },
     "execution_count": 122,
     "metadata": {},
     "output_type": "execute_result"
    },
    {
     "data": {
      "image/png": "[encoded data removed]",
      "text/plain": [
       "<Figure size 640x480 with 1 Axes>"
      ]
     },
     "metadata": {},
     "output_type": "display_data"
    }
   ],
   "source": [
    "# 6\n",
    "\n",
    "def sample_std_normal(N):\n",
    "    return [one_sample_uniform([-1,1]) * i for i in sample_abs_std_normal(N)]\n",
    "\n",
    "\n",
    "\n",
    "N = 100000\n",
    "\n",
    "# sample plot\n",
    "plt.hist(sample_std_normal(1000), density=True, bins=20)\n",
    "\n",
    "# theoretical plot\n",
    "x = np.linspace(-3, 3, num=100000)\n",
    "f = lambda x : 1 / np.sqrt(2*np.pi) * np.exp(-x**2/2)\n",
    "plt.plot(x, list(map(f, x)))"
   ]
  },
  {
   "attachments": {},
   "cell_type": "markdown",
   "metadata": {},
   "source": [
    "### Exercice 7"
   ]
  },
  {
   "cell_type": "code",
   "execution_count": null,
   "metadata": {},
   "outputs": [],
   "source": [
    "def sample_unit_circle(N):\n",
    "    res = [[],[]]\n",
    "\n",
    "    for _ in range(N):\n",
    "        while True:\n",
    "            u1 = 2 * np.random.rand() - 1\n",
    "            u2 = 2 * np.random.rand() - 1\n",
    "            if u1*u1 + u2*u2 <= 1:\n",
    "                break\n",
    "        res[0].append(u1)\n",
    "        res[1].append(u2)\n",
    "    \n",
    "    return res\n",
    "\n",
    "sample_unit_circle_list = sample_unit_circle(10000)\n",
    "plt.scatter(sample_unit_circle_list[0], sample_unit_circle_list[1])"
   ]
  },
  {
   "attachments": {},
   "cell_type": "markdown",
   "metadata": {},
   "source": [
    "### Exercice 8"
   ]
  },
  {
   "cell_type": "code",
   "execution_count": null,
   "metadata": {},
   "outputs": [],
   "source": [
    "def sample_unit_sphere(N):\n",
    "    res = [[],[],[]]\n",
    "\n",
    "    for _ in range(N):\n",
    "        while True:\n",
    "            u1 = 2 * np.random.rand() - 1\n",
    "            u2 = 2 * np.random.rand() - 1\n",
    "            u3 = 2 * np.random.rand() - 1\n",
    "            if u1*u1 + u2*u2 + u3*u3 <= 1:\n",
    "                break\n",
    "        res[0].append(u1)\n",
    "        res[1].append(u2)\n",
    "        res[2].append(u3)\n",
    "    \n",
    "    return res\n",
    "\n",
    "sample_unit_sphere_list = sample_unit_sphere(10000)\n",
    "\n",
    "fig = plt.figure()\n",
    "ax = fig.add_subplot(projection='3d')\n",
    "ax.scatter(sample_unit_sphere_list[0],\n",
    "           sample_unit_sphere_list[1],\n",
    "           sample_unit_sphere_list[2])"
   ]
  },
  {
   "attachments": {},
   "cell_type": "markdown",
   "metadata": {},
   "source": [
    "### Exercice 9"
   ]
  },
  {
   "cell_type": "code",
   "execution_count": null,
   "metadata": {},
   "outputs": [],
   "source": [
    "#2\n",
    "\n",
    "def sample_bi_gaussian(N):\n",
    "    res = [[],[]]\n",
    "\n",
    "    for _ in range(N):\n",
    "        Theta = np.random.rand() * 2 * np.pi\n",
    "        R = sample_exponential(1/2, 1)[0]\n",
    "        res[0].append(np.sqrt(R) * np.cos(Theta))\n",
    "        res[1].append(np.sqrt(R) * np.sin(Theta))\n",
    "\n",
    "    return res\n",
    "\n",
    "s = sample_bi_gaussian(10000)\n",
    "plt.scatter(s[0], s[1])"
   ]
  },
  {
   "attachments": {},
   "cell_type": "markdown",
   "metadata": {},
   "source": [
    "### Exercice 11"
   ]
  },
  {
   "cell_type": "code",
   "execution_count": 142,
   "metadata": {},
   "outputs": [
    {
     "data": {
      "text/plain": [
       "[<matplotlib.lines.Line2D at 0x7fa44038f5e0>]"
      ]
     },
     "execution_count": 142,
     "metadata": {},
     "output_type": "execute_result"
    },
    {
     "data": {
      "image/png": "[encoded data removed]",
      "text/plain": [
       "<Figure size 640x480 with 1 Axes>"
      ]
     },
     "metadata": {},
     "output_type": "display_data"
    }
   ],
   "source": [
    "def exercise11(mu, sigma, p, N):\n",
    "    res = sample_std_normal(N)\n",
    "\n",
    "    for i in range(len(res)):\n",
    "        U = np.random.rand()\n",
    "        res[i] = res[i] * (sigma[0] if U < p[0] else sigma[1]) + (mu[0] if U < p[0] else mu[1])\n",
    "    \n",
    "    return res\n",
    "\n",
    "\n",
    "\n",
    "pdf_normal = lambda mu,sigma,x : 1 / (np.sqrt(2*np.pi)*sigma) * np.exp(-((x-mu)/sigma)**2)\n",
    "\n",
    "# # sample plot\n",
    "# plt.hist(exercise11([-3,3], [1,1], [1/2,1/2], 10000), density=True, bins=20)\n",
    "\n",
    "# # theoretical plot\n",
    "# x = np.linspace(-6, 6, num=10000)\n",
    "# f = lambda x : 1/2*pdf_normal(-3,1,x) + 1/2*pdf_normal(3,1,x)\n",
    "# plt.plot(x, list(map(f, x)))\n",
    "\n",
    "# sample plot\n",
    "plt.hist(exercise11([-3,3], [1,1], [3/4,1/4], 10000), density=True, bins=20)\n",
    "\n",
    "# theoretical plot\n",
    "x = np.linspace(-6, 6, num=10000)\n",
    "f = lambda x : 3/4*pdf_normal(-3,1,x) + 1/4*pdf_normal(3,1,x)\n",
    "plt.plot(x, list(map(f, x)))"
   ]
  }
 ],
 "metadata": {
  "kernelspec": {
   "display_name": "Python 3",
   "language": "python",
   "name": "python3"
  },
  "language_info": {
   "codemirror_mode": {
    "name": "ipython",
    "version": 3
   },
   "file_extension": ".py",
   "mimetype": "text/x-python",
   "name": "python",
   "nbconvert_exporter": "python",
   "pygments_lexer": "ipython3",
   "version": "3.10.9"
  },
  "orig_nbformat": 4,
  "vscode": {
   "interpreter": {
    "hash": "97cc609b13305c559618ec78a438abc56230b9381f827f22d070313b9a1f3777"
   }
  }
 },
 "nbformat": 4,
 "nbformat_minor": 2
}
