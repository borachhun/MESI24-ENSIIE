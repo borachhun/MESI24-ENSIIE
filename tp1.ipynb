{
 "cells": [
  {
   "attachments": {},
   "cell_type": "markdown",
   "metadata": {},
   "source": [
    "# TP1"
   ]
  },
  {
   "attachments": {},
   "cell_type": "markdown",
   "metadata": {},
   "source": [
    "## 1. Methode d'inversion"
   ]
  },
  {
   "attachments": {},
   "cell_type": "markdown",
   "metadata": {},
   "source": [
    "### Exercice 1"
   ]
  },
  {
   "cell_type": "code",
   "execution_count": null,
   "metadata": {},
   "outputs": [],
   "source": [
    "import numpy as np\n",
    "import matplotlib.pyplot as plt\n",
    "import scipy.stats as stats"
   ]
  },
  {
   "attachments": {},
   "cell_type": "markdown",
   "metadata": {},
   "source": [
    "1. \n",
    "\n",
    "$$\\mathbb{P}(X=1) = \\mathbb{P}(U \\leq p) = \\int_0^p du = p$$\n",
    "$$\\mathbb{P}(X=0) = 1 - \\mathbb{P}(U \\leq p) = 1-p$$"
   ]
  },
  {
   "cell_type": "code",
   "execution_count": null,
   "metadata": {},
   "outputs": [],
   "source": [
    "# 2.\n",
    "\n",
    "import numpy as np\n",
    "\n",
    "def sample_bernoulli(p, N):\n",
    "    res = []\n",
    "    for _ in range(N):\n",
    "        U = np.random.rand()\n",
    "        # if U <= p:\n",
    "        #     res.append(1)\n",
    "        # else:\n",
    "        #     res.append(0)\n",
    "        res.append(int(U <= p))\n",
    "    return res"
   ]
  },
  {
   "cell_type": "code",
   "execution_count": null,
   "metadata": {},
   "outputs": [],
   "source": [
    "# 3.\n",
    "\n",
    "N_list = [100, 1000, 10000]\n",
    "p = 0.3\n",
    "\n",
    "for N in N_list:\n",
    "    print(sum(sample_bernoulli(p, N)) / N)"
   ]
  },
  {
   "cell_type": "code",
   "execution_count": null,
   "metadata": {},
   "outputs": [],
   "source": [
    "# 4.\n",
    "\n",
    "# (a & b)\n",
    "\n",
    "p = 0.3\n",
    "n = 40\n",
    "\n",
    "mu = p\n",
    "sigma = np.sqrt(p*(1-p))\n",
    "\n",
    "N = 100000\n",
    "Z_n_list = []\n",
    "\n",
    "for _ in range(N):\n",
    "    X_n_bar = np.mean(sum(sample_bernoulli(p, n)) / n)\n",
    "    Z_n_list.append(np.sqrt(n) * (X_n_bar - mu) / sigma)\n",
    "\n",
    "plt.hist(Z_n_list, density=True)\n",
    "\n",
    "# N(0,1) plot\n",
    "x = np.linspace(-4,4)\n",
    "plt.plot(x, stats.norm.pdf(x,0,1))"
   ]
  },
  {
   "attachments": {},
   "cell_type": "markdown",
   "metadata": {},
   "source": [
    "### Exercice 2"
   ]
  },
  {
   "cell_type": "code",
   "execution_count": null,
   "metadata": {},
   "outputs": [],
   "source": [
    "# 2.\n",
    "\n",
    "def sample_binomial(n, p, N):\n",
    "    res = []\n",
    "    for _ in range(N):\n",
    "        s = 0\n",
    "        for _ in range(n):\n",
    "            U = np.random.rand()\n",
    "            s += int(U <= p)\n",
    "        res.append(s)\n",
    "    return res"
   ]
  },
  {
   "cell_type": "code",
   "execution_count": null,
   "metadata": {},
   "outputs": [],
   "source": [
    "# 3.\n",
    "\n",
    "N = 10000\n",
    "n = 30\n",
    "p = 0.1\n",
    "\n",
    "sample_binomial_list = sample_binomial(n, p, N)\n",
    "plt.hist(sample_binomial_list)"
   ]
  },
  {
   "cell_type": "code",
   "execution_count": null,
   "metadata": {},
   "outputs": [],
   "source": [
    "# 4.\n",
    "\n",
    "y_axis = [sum(list(map(int, [X == k for X in sample_binomial_list])))/N\n",
    "          for k in range(n+1)]\n",
    "\n",
    "plt.plot([x for x in range(n+1)], y_axis)"
   ]
  },
  {
   "cell_type": "code",
   "execution_count": null,
   "metadata": {},
   "outputs": [],
   "source": [
    "# 5.\n",
    "\n"
   ]
  },
  {
   "attachments": {},
   "cell_type": "markdown",
   "metadata": {},
   "source": [
    "### Exercice 3"
   ]
  },
  {
   "cell_type": "code",
   "execution_count": null,
   "metadata": {},
   "outputs": [],
   "source": [
    "# 1.\n",
    "\n",
    "a_list = [0.5, 1, 1.5, 2]\n",
    "p_list = [1/4, 1/8, 1/8, 1/2]\n",
    "\n",
    "c_list = [sum(p_list[0:(i+1)]) for i in range(len(p_list))]\n",
    "\n",
    "N = 10000\n",
    "\n",
    "res = []\n",
    "\n",
    "# algo from slide 1 page 23\n",
    "for _ in range(N):\n",
    "    k = 0\n",
    "    U = np.random.rand()\n",
    "    while (U > c_list[k] and k < len(p_list)):\n",
    "        k += 1\n",
    "    res.append(a_list[k])\n",
    "\n",
    "plt.hist(res)"
   ]
  },
  {
   "cell_type": "code",
   "execution_count": null,
   "metadata": {},
   "outputs": [],
   "source": [
    "# 2.\n",
    "\n",
    "plt.plot([1,2,3,4], [1/4, 1/8, 1/8, 1/2])"
   ]
  },
  {
   "attachments": {},
   "cell_type": "markdown",
   "metadata": {},
   "source": [
    "### Exercice 4"
   ]
  },
  {
   "cell_type": "code",
   "execution_count": null,
   "metadata": {},
   "outputs": [],
   "source": [
    "# 1.\n",
    "\n"
   ]
  },
  {
   "attachments": {},
   "cell_type": "markdown",
   "metadata": {},
   "source": [
    "## 2. Methodes de rejet et de transformation"
   ]
  },
  {
   "attachments": {},
   "cell_type": "markdown",
   "metadata": {},
   "source": [
    "### Exercice 6"
   ]
  },
  {
   "cell_type": "code",
   "execution_count": 75,
   "metadata": {},
   "outputs": [],
   "source": [
    "# 3.\n",
    "\n",
    "def sample_abs_std_normal(N):\n",
    "    res = []\n",
    "\n",
    "    f = lambda x : 2 / np.sqrt(2*np.pi) * np.exp(-x**2/2) * int(x>0)\n",
    "    g = lambda x : np.exp(-x) * int(x>0)\n",
    "    inv_cdf_g = lambda x : -np.log(1-x) * int(x>0 and x<1)\n",
    "    c = np.sqrt(2 * np.e / np.pi)\n",
    "\n",
    "    for _ in range(N):\n",
    "        while True:\n",
    "            U = np.random.rand()\n",
    "            Y = inv_cdf_g(U)\n",
    "            if U < f(Y) / (c * g(Y)):\n",
    "                break\n",
    "        res.append(Y)\n",
    "    \n",
    "    return res"
   ]
  },
  {
   "cell_type": "code",
   "execution_count": 81,
   "metadata": {},
   "outputs": [
    {
     "data": {
      "text/plain": [
       "[<matplotlib.lines.Line2D at 0x7f11a089f910>]"
      ]
     },
     "execution_count": 81,
     "metadata": {},
     "output_type": "execute_result"
    },
    {
     "data": {
      "image/png": "[encoded data removed]",
      "text/plain": [
       "<Figure size 640x480 with 1 Axes>"
      ]
     },
     "metadata": {},
     "output_type": "display_data"
    }
   ],
   "source": [
    "# 4.\n",
    "\n",
    "N = 100000\n",
    "\n",
    "plt.hist(sample_abs_std_normal(1000), density=True)\n",
    "\n",
    "# |X| plot\n",
    "x = np.linspace(0,4)\n",
    "f = lambda x : 2 / np.sqrt(2*np.pi) * np.exp(-x**2/2) * int(x>0)\n",
    "plt.plot(x, list(map(f, x)))"
   ]
  },
  {
   "cell_type": "code",
   "execution_count": null,
   "metadata": {},
   "outputs": [],
   "source": [
    "# Test if inverse cdf of g is correct\n",
    "\n",
    "g = lambda x : np.exp(-x)\n",
    "inv_cdf_g = lambda x : -np.log(1-x)\n",
    "\n",
    "plt.hist([inv_cdf_g(np.random.rand()) for _ in range(1000)], density=True)\n",
    "\n",
    "x = np.linspace(0,6)\n",
    "plt.plot(x, list(map(g,x)))"
   ]
  }
 ],
 "metadata": {
  "kernelspec": {
   "display_name": "Python 3",
   "language": "python",
   "name": "python3"
  },
  "language_info": {
   "codemirror_mode": {
    "name": "ipython",
    "version": 3
   },
   "file_extension": ".py",
   "mimetype": "text/x-python",
   "name": "python",
   "nbconvert_exporter": "python",
   "pygments_lexer": "ipython3",
   "version": "3.10.9"
  },
  "orig_nbformat": 4,
  "vscode": {
   "interpreter": {
    "hash": "916dbcbb3f70747c44a77c7bcd40155683ae19c65e1c03b4aa3499c5328201f1"
   }
  }
 },
 "nbformat": 4,
 "nbformat_minor": 2
}
