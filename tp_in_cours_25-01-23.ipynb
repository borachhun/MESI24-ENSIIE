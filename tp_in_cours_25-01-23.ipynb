{
 "cells": [
  {
   "cell_type": "code",
   "execution_count": 2,
   "metadata": {},
   "outputs": [],
   "source": [
    "import numpy"
   ]
  },
  {
   "attachments": {},
   "cell_type": "markdown",
   "metadata": {},
   "source": [
    "# Exercise from slide (page 26)"
   ]
  },
  {
   "attachments": {},
   "cell_type": "markdown",
   "metadata": {},
   "source": [
    "## Question 1"
   ]
  },
  {
   "cell_type": "code",
   "execution_count": 16,
   "metadata": {},
   "outputs": [],
   "source": [
    "def sampling(x, p):\n",
    "    N = len(x)\n",
    "\n",
    "    c = []\n",
    "    for i in range(N):\n",
    "        sum_c = 0\n",
    "        for j in range(i+1):\n",
    "            sum_c += p[j]\n",
    "        c.append(sum_c)\n",
    "\n",
    "    k = 0\n",
    "    u = numpy.random.rand()\n",
    "    while (u > c[k]) and (k < N):\n",
    "        k += 1\n",
    "    return x[k]"
   ]
  },
  {
   "attachments": {},
   "cell_type": "markdown",
   "metadata": {},
   "source": [
    "## Question 2"
   ]
  },
  {
   "cell_type": "code",
   "execution_count": 17,
   "metadata": {},
   "outputs": [
    {
     "data": {
      "text/plain": [
       "[1, 1, 1, 1, 1, 1, 1, 2, 1, 2]"
      ]
     },
     "execution_count": 17,
     "metadata": {},
     "output_type": "execute_result"
    }
   ],
   "source": [
    "N = 10\n",
    "sample10 = []\n",
    "\n",
    "for _ in range(N):\n",
    "    sample10.append(sampling([1,2,3],[1/2,1/3,1/6]))\n",
    "\n",
    "sample10"
   ]
  },
  {
   "attachments": {},
   "cell_type": "markdown",
   "metadata": {},
   "source": [
    "## Question 3"
   ]
  },
  {
   "cell_type": "code",
   "execution_count": 24,
   "metadata": {},
   "outputs": [
    {
     "data": {
      "text/plain": [
       "[0.5074, 0.3337, 0.1589]"
      ]
     },
     "execution_count": 24,
     "metadata": {},
     "output_type": "execute_result"
    }
   ],
   "source": [
    "N = 10000\n",
    "sample10000 = []\n",
    "\n",
    "for _ in range(N):\n",
    "    sample10000.append(sampling([1,2,3],[1/2,1/3,1/6]))\n",
    "\n",
    "frequency = [0,0,0]\n",
    "for num in sample10000:\n",
    "    frequency[num-1] += 1\n",
    "for i in range(len(frequency)):\n",
    "    frequency[i] /= 10000\n",
    "\n",
    "frequency"
   ]
  }
 ],
 "metadata": {
  "kernelspec": {
   "display_name": "Python 3",
   "language": "python",
   "name": "python3"
  },
  "language_info": {
   "codemirror_mode": {
    "name": "ipython",
    "version": 3
   },
   "file_extension": ".py",
   "mimetype": "text/x-python",
   "name": "python",
   "nbconvert_exporter": "python",
   "pygments_lexer": "ipython3",
   "version": "3.10.9"
  },
  "orig_nbformat": 4,
  "vscode": {
   "interpreter": {
    "hash": "31f2aee4e71d21fbe5cf8b01ff0e069b9275f58929596ceb00d14d90e3e16cd6"
   }
  }
 },
 "nbformat": 4,
 "nbformat_minor": 2
}
